{
  "cells": [
    {
      "cell_type": "markdown",
      "metadata": {
        "id": "view-in-github",
        "colab_type": "text"
      },
      "source": [
        "<a href=\"https://colab.research.google.com/github/Dmitriy6655/Library-Python-dly-DS-SEM_6_HW/blob/main/%D0%91%D0%B8%D0%B1%D0%B8%D0%BB%D0%B8%D0%BE%D1%82%D0%B5%D0%BA%D0%B0_Python_%D0%B4%D0%BB%D1%8F_DS_%D0%94%D0%97_PyLib_06.ipynb\" target=\"_parent\"><img src=\"https://colab.research.google.com/assets/colab-badge.svg\" alt=\"Open In Colab\"/></a>"
      ]
    },
    {
      "cell_type": "markdown",
      "metadata": {
        "id": "hflVLtvg5hZX"
      },
      "source": [
        "#Основные понятия  \n",
        "**Кросс-валидация** - это метод оценки модели машинного обучения, который улучшает надёжность валидационного процесса путём разделения данных на несколько частей, или \"фолдов\". Модель обучается на некоторых из этих фолдов и валидируется на оставшихся, процесс повторяется несколько раз с разными наборами фолдов. Это позволяет использовать все доступные данные как для обучения, так и для валидации модели, предоставляя более обобщённую оценку её качества.\n",
        "\n",
        "**L1-регуляризация (лассо регуляризация)** - метод регуляризации, при котором к функции потерь добавляется сумма абсолютных значений коэффициентов модели, умноженная на регуляризационный параметр. L1-регуляризация может привести к обнулению некоторых коэффициентов, что делает её полезной для выбора признаков и создания разреженных моделей.\n",
        "\n",
        "**L2-регуляризация (ридж-регуляризация)** - эта форма регуляризации добавляет к функции потерь сумму квадратов коэффициентов модели, каждый из которых умножается на регуляризационный параметр. В отличие от L1, L2-регуляризация не обнуляет коэффициенты, а штрафует большие значения, способствуя более сглаженной и стабильной модели.\n",
        "\n",
        "**Переобучение (Overfitting)** - это явление в машинном обучении, когда модель слишком тесно адаптируется к обучающему набору данных, включая шум и аномалии. В результате такая модель показывает высокую точность на обучающей выборке, но плохо справляется с предсказаниями на новых, невиданных данных, поскольку она уловила в данных некоторые случайные закономерности, не имеющие отношения к реальной задаче.\n",
        "\n",
        "**Недообучение (Underfitting)** - противоположное явление переобучению, происходит, когда модель не может адекватно уловить зависимости в данных, даже на обучающем наборе, что приводит к низкой производительности как на обучающем, так и на валидационном или тестовом наборе данных. Это может быть результатом слишком простой модели, недостатка данных или недостаточной обучения модели.\n",
        "\n",
        "**Способность к обобщению (Generalization Ability)** - способность модели машинного обучения работать адекватно на новых, ранее невиданных данных. Следовательно, цель обучения модели состоит в том, чтобы не только хорошо работать на данных, на которых она была обучена, но и сохранять высокую точность на данных вне обучающей выборке. Оценка способности модели к обобщению обычно производится на валидационном наборе данных или через методы кросс-валидации."
      ]
    },
    {
      "cell_type": "markdown",
      "metadata": {
        "id": "6gz5bu1c5pQi"
      },
      "source": [
        "##Задание 1\n",
        "\n",
        "**Анализ Переобучения и Недообучения**\n",
        "\n",
        "- Создайте две модели: модель линейной регрессии и модель полиномиальной регрессии высокой степени, используя один и тот же набор данных. Обучите эти модели, затем оцените их производительность на тренировочном и тестовом наборах данных.\n",
        "- Какая модель показывает признаки переобучения, а какая - признаки недообучения?\n",
        "- Какие выводы можно сделать о влиянии сложности модели на её способность к обобщению\n"
      ]
    },
    {
      "cell_type": "code",
      "execution_count": null,
      "metadata": {
        "id": "ukdUM-LO5R_6"
      },
      "outputs": [],
      "source": [
        "import pandas as pd\n",
        "import numpy as np\n",
        "import matplotlib.pyplot as plt\n",
        "import seaborn as sns\n",
        "import warnings\n",
        "from sklearn.model_selection import train_test_split, cross_val_score\n",
        "from sklearn.preprocessing import StandardScaler,MinMaxScaler\n",
        "from sklearn.preprocessing import PolynomialFeatures\n",
        "from sklearn.linear_model import LogisticRegression\n",
        "from sklearn.linear_model import LinearRegression\n",
        "from sklearn.metrics import mean_absolute_error, mean_squared_error, r2_score, accuracy_score"
      ]
    },
    {
      "cell_type": "code",
      "execution_count": null,
      "metadata": {
        "id": "guy2-osW5037"
      },
      "outputs": [],
      "source": []
    },
    {
      "cell_type": "code",
      "execution_count": null,
      "metadata": {
        "id": "NTRSTiQOC5AT"
      },
      "outputs": [],
      "source": [
        "\n",
        "from sklearn.datasets import load_iris\n",
        "\n",
        "# Загружаем набор данных Iris\n",
        "iris = load_iris()\n",
        "\n",
        "# Преобразуем данные в DataFrame\n",
        "iris_df = pd.DataFrame(data=iris.data, columns=iris.feature_names)\n",
        "\n",
        "# Добавляем целевую переменную\n",
        "iris_df['target'] = iris.target\n",
        "\n",
        "\n"
      ]
    },
    {
      "cell_type": "code",
      "execution_count": null,
      "metadata": {
        "colab": {
          "base_uri": "https://localhost:8080/",
          "height": 206
        },
        "id": "qced-yrz6ZZT",
        "outputId": "d16af754-f020-4ad0-95c0-50a504a839cc"
      },
      "outputs": [
        {
          "data": {
            "text/html": [
              "<div>\n",
              "<style scoped>\n",
              "    .dataframe tbody tr th:only-of-type {\n",
              "        vertical-align: middle;\n",
              "    }\n",
              "\n",
              "    .dataframe tbody tr th {\n",
              "        vertical-align: top;\n",
              "    }\n",
              "\n",
              "    .dataframe thead th {\n",
              "        text-align: right;\n",
              "    }\n",
              "</style>\n",
              "<table border=\"1\" class=\"dataframe\">\n",
              "  <thead>\n",
              "    <tr style=\"text-align: right;\">\n",
              "      <th></th>\n",
              "      <th>sepal length (cm)</th>\n",
              "      <th>sepal width (cm)</th>\n",
              "      <th>petal length (cm)</th>\n",
              "      <th>petal width (cm)</th>\n",
              "      <th>target</th>\n",
              "    </tr>\n",
              "  </thead>\n",
              "  <tbody>\n",
              "    <tr>\n",
              "      <th>0</th>\n",
              "      <td>5.1</td>\n",
              "      <td>3.5</td>\n",
              "      <td>1.4</td>\n",
              "      <td>0.2</td>\n",
              "      <td>0</td>\n",
              "    </tr>\n",
              "    <tr>\n",
              "      <th>1</th>\n",
              "      <td>4.9</td>\n",
              "      <td>3.0</td>\n",
              "      <td>1.4</td>\n",
              "      <td>0.2</td>\n",
              "      <td>0</td>\n",
              "    </tr>\n",
              "    <tr>\n",
              "      <th>2</th>\n",
              "      <td>4.7</td>\n",
              "      <td>3.2</td>\n",
              "      <td>1.3</td>\n",
              "      <td>0.2</td>\n",
              "      <td>0</td>\n",
              "    </tr>\n",
              "    <tr>\n",
              "      <th>3</th>\n",
              "      <td>4.6</td>\n",
              "      <td>3.1</td>\n",
              "      <td>1.5</td>\n",
              "      <td>0.2</td>\n",
              "      <td>0</td>\n",
              "    </tr>\n",
              "    <tr>\n",
              "      <th>4</th>\n",
              "      <td>5.0</td>\n",
              "      <td>3.6</td>\n",
              "      <td>1.4</td>\n",
              "      <td>0.2</td>\n",
              "      <td>0</td>\n",
              "    </tr>\n",
              "  </tbody>\n",
              "</table>\n",
              "</div>"
            ],
            "text/plain": [
              "   sepal length (cm)  sepal width (cm)  petal length (cm)  petal width (cm)  \\\n",
              "0                5.1               3.5                1.4               0.2   \n",
              "1                4.9               3.0                1.4               0.2   \n",
              "2                4.7               3.2                1.3               0.2   \n",
              "3                4.6               3.1                1.5               0.2   \n",
              "4                5.0               3.6                1.4               0.2   \n",
              "\n",
              "   target  \n",
              "0       0  \n",
              "1       0  \n",
              "2       0  \n",
              "3       0  \n",
              "4       0  "
            ]
          },
          "execution_count": 6,
          "metadata": {},
          "output_type": "execute_result"
        }
      ],
      "source": [
        "iris_df.head()"
      ]
    },
    {
      "cell_type": "code",
      "execution_count": null,
      "metadata": {
        "colab": {
          "base_uri": "https://localhost:8080/"
        },
        "id": "fAjwuFp660bO",
        "outputId": "bcab6653-637d-43f9-f89c-cf2b73ad3d6c"
      },
      "outputs": [
        {
          "name": "stdout",
          "output_type": "stream",
          "text": [
            "<class 'pandas.core.frame.DataFrame'>\n",
            "RangeIndex: 150 entries, 0 to 149\n",
            "Data columns (total 5 columns):\n",
            " #   Column             Non-Null Count  Dtype  \n",
            "---  ------             --------------  -----  \n",
            " 0   sepal length (cm)  150 non-null    float64\n",
            " 1   sepal width (cm)   150 non-null    float64\n",
            " 2   petal length (cm)  150 non-null    float64\n",
            " 3   petal width (cm)   150 non-null    float64\n",
            " 4   target             150 non-null    int32  \n",
            "dtypes: float64(4), int32(1)\n",
            "memory usage: 5.4 KB\n"
          ]
        }
      ],
      "source": [
        "iris_df.info()"
      ]
    },
    {
      "cell_type": "code",
      "execution_count": null,
      "metadata": {
        "colab": {
          "base_uri": "https://localhost:8080/",
          "height": 300
        },
        "id": "T5E_DSrO85MF",
        "outputId": "c390c9c1-c47e-4ddd-f1c5-6c799a293782"
      },
      "outputs": [
        {
          "data": {
            "text/html": [
              "<div>\n",
              "<style scoped>\n",
              "    .dataframe tbody tr th:only-of-type {\n",
              "        vertical-align: middle;\n",
              "    }\n",
              "\n",
              "    .dataframe tbody tr th {\n",
              "        vertical-align: top;\n",
              "    }\n",
              "\n",
              "    .dataframe thead th {\n",
              "        text-align: right;\n",
              "    }\n",
              "</style>\n",
              "<table border=\"1\" class=\"dataframe\">\n",
              "  <thead>\n",
              "    <tr style=\"text-align: right;\">\n",
              "      <th></th>\n",
              "      <th>sepal length (cm)</th>\n",
              "      <th>sepal width (cm)</th>\n",
              "      <th>petal length (cm)</th>\n",
              "      <th>petal width (cm)</th>\n",
              "      <th>target</th>\n",
              "    </tr>\n",
              "  </thead>\n",
              "  <tbody>\n",
              "    <tr>\n",
              "      <th>count</th>\n",
              "      <td>150.00</td>\n",
              "      <td>150.00</td>\n",
              "      <td>150.00</td>\n",
              "      <td>150.00</td>\n",
              "      <td>150.00</td>\n",
              "    </tr>\n",
              "    <tr>\n",
              "      <th>mean</th>\n",
              "      <td>5.84</td>\n",
              "      <td>3.06</td>\n",
              "      <td>3.76</td>\n",
              "      <td>1.20</td>\n",
              "      <td>1.00</td>\n",
              "    </tr>\n",
              "    <tr>\n",
              "      <th>std</th>\n",
              "      <td>0.83</td>\n",
              "      <td>0.44</td>\n",
              "      <td>1.77</td>\n",
              "      <td>0.76</td>\n",
              "      <td>0.82</td>\n",
              "    </tr>\n",
              "    <tr>\n",
              "      <th>min</th>\n",
              "      <td>4.30</td>\n",
              "      <td>2.00</td>\n",
              "      <td>1.00</td>\n",
              "      <td>0.10</td>\n",
              "      <td>0.00</td>\n",
              "    </tr>\n",
              "    <tr>\n",
              "      <th>25%</th>\n",
              "      <td>5.10</td>\n",
              "      <td>2.80</td>\n",
              "      <td>1.60</td>\n",
              "      <td>0.30</td>\n",
              "      <td>0.00</td>\n",
              "    </tr>\n",
              "    <tr>\n",
              "      <th>50%</th>\n",
              "      <td>5.80</td>\n",
              "      <td>3.00</td>\n",
              "      <td>4.35</td>\n",
              "      <td>1.30</td>\n",
              "      <td>1.00</td>\n",
              "    </tr>\n",
              "    <tr>\n",
              "      <th>75%</th>\n",
              "      <td>6.40</td>\n",
              "      <td>3.30</td>\n",
              "      <td>5.10</td>\n",
              "      <td>1.80</td>\n",
              "      <td>2.00</td>\n",
              "    </tr>\n",
              "    <tr>\n",
              "      <th>max</th>\n",
              "      <td>7.90</td>\n",
              "      <td>4.40</td>\n",
              "      <td>6.90</td>\n",
              "      <td>2.50</td>\n",
              "      <td>2.00</td>\n",
              "    </tr>\n",
              "  </tbody>\n",
              "</table>\n",
              "</div>"
            ],
            "text/plain": [
              "       sepal length (cm)  sepal width (cm)  petal length (cm)  \\\n",
              "count             150.00            150.00             150.00   \n",
              "mean                5.84              3.06               3.76   \n",
              "std                 0.83              0.44               1.77   \n",
              "min                 4.30              2.00               1.00   \n",
              "25%                 5.10              2.80               1.60   \n",
              "50%                 5.80              3.00               4.35   \n",
              "75%                 6.40              3.30               5.10   \n",
              "max                 7.90              4.40               6.90   \n",
              "\n",
              "       petal width (cm)  target  \n",
              "count            150.00  150.00  \n",
              "mean               1.20    1.00  \n",
              "std                0.76    0.82  \n",
              "min                0.10    0.00  \n",
              "25%                0.30    0.00  \n",
              "50%                1.30    1.00  \n",
              "75%                1.80    2.00  \n",
              "max                2.50    2.00  "
            ]
          },
          "execution_count": 8,
          "metadata": {},
          "output_type": "execute_result"
        }
      ],
      "source": [
        "iris_df.describe().round(2)"
      ]
    },
    {
      "cell_type": "code",
      "execution_count": null,
      "metadata": {
        "id": "zg2Q1Im0C5AU",
        "outputId": "67af0001-1db7-40bf-e8b1-4b2d2cb82eb8"
      },
      "outputs": [
        {
          "data": {
            "text/plain": [
              "0    50\n",
              "1    50\n",
              "2    50\n",
              "Name: target, dtype: int64"
            ]
          },
          "execution_count": 9,
          "metadata": {},
          "output_type": "execute_result"
        }
      ],
      "source": [
        "iris_df['target'].value_counts()"
      ]
    },
    {
      "cell_type": "code",
      "execution_count": null,
      "metadata": {
        "colab": {
          "base_uri": "https://localhost:8080/",
          "height": 645
        },
        "id": "xmZO3IrTAcHB",
        "outputId": "a88a13af-1dcb-4854-e248-7af91d838375"
      },
      "outputs": [
        {
          "data": {
            "image/png": "[encoded data removed]",
            "text/plain": [
              "<Figure size 1080x720 with 5 Axes>"
            ]
          },
          "metadata": {
            "needs_background": "light"
          },
          "output_type": "display_data"
        }
      ],
      "source": [
        "# Визуализация гистограмм\n",
        "plt.figure(figsize=(15, 10))\n",
        "for i, column in enumerate(iris_df.columns, 1):\n",
        "    plt.subplot(4, 3, i)\n",
        "    sns.histplot(iris_df[column], kde=True)\n",
        "\n",
        "plt.tight_layout()\n",
        "plt.show()"
      ]
    },
    {
      "cell_type": "code",
      "execution_count": null,
      "metadata": {
        "colab": {
          "base_uri": "https://localhost:8080/",
          "height": 812
        },
        "id": "rVA4OwpY4Yr_",
        "outputId": "6f81863b-681f-47c4-c084-24ca08b397b3"
      },
      "outputs": [
        {
          "data": {
            "image/png": "[encoded data removed]",
            "text/plain": [
              "<Figure size 1080x720 with 1 Axes>"
            ]
          },
          "metadata": {
            "needs_background": "light"
          },
          "output_type": "display_data"
        }
      ],
      "source": [
        "fig, ax = plt.subplots(figsize=(15,10))\n",
        "sns.boxplot(data= iris_df, ax=ax)\n",
        "plt.show()"
      ]
    },
    {
      "cell_type": "code",
      "execution_count": null,
      "metadata": {
        "colab": {
          "base_uri": "https://localhost:8080/"
        },
        "id": "EFafYffomSTh",
        "outputId": "0f495ac0-b766-458a-c284-463e2e534ebf"
      },
      "outputs": [
        {
          "data": {
            "text/plain": [
              "sepal length (cm)    0\n",
              "sepal width (cm)     0\n",
              "petal length (cm)    0\n",
              "petal width (cm)     0\n",
              "target               0\n",
              "dtype: int64"
            ]
          },
          "execution_count": 11,
          "metadata": {},
          "output_type": "execute_result"
        }
      ],
      "source": [
        "iris_df.isna().sum()"
      ]
    },
    {
      "cell_type": "code",
      "execution_count": null,
      "metadata": {
        "id": "3yPzzVbafONB"
      },
      "outputs": [],
      "source": [
        "X = iris_df.drop('target', axis=1)\n",
        "Y = iris_df['target']\n",
        "X_scaled = StandardScaler().fit_transform(X)\n",
        "X_train, X_test, y_train, y_test = train_test_split(X_scaled, Y, train_size=0.8, random_state = 42)"
      ]
    },
    {
      "cell_type": "code",
      "execution_count": null,
      "metadata": {
        "colab": {
          "base_uri": "https://localhost:8080/"
        },
        "id": "Q0k34hSXf_2m",
        "outputId": "37bca147-f36d-40ab-c763-5ca5ff5213f6"
      },
      "outputs": [
        {
          "data": {
            "text/plain": [
              "((120, 4), (120,))"
            ]
          },
          "execution_count": 13,
          "metadata": {},
          "output_type": "execute_result"
        }
      ],
      "source": [
        "X_train.shape, y_train.shape"
      ]
    },
    {
      "cell_type": "code",
      "execution_count": null,
      "metadata": {
        "id": "8UBhO-4qC5AV",
        "outputId": "f5959aa2-5ffa-4e51-a6f9-dc4ba1b5ab8a"
      },
      "outputs": [
        {
          "data": {
            "text/plain": [
              "array([[-1.07659238,  1.15977648, -1.92814138, -1.81227307],\n",
              "       [ 0.5899243 , -0.36263595, -0.36461312, -0.82700241],\n",
              "       [ 0.48666809, -0.79714052,  2.2927545 ,  2.63927548]])"
            ]
          },
          "execution_count": 32,
          "metadata": {},
          "output_type": "execute_result"
        }
      ],
      "source": [
        "X = iris_df.drop('target', axis=1)\n",
        "Y = iris_df['target']\n",
        "X_scaled = StandardScaler().fit_transform(X)\n",
        "X_train, X_test, y_train, y_test = train_test_split(X_scaled, Y, train_size=0.8, random_state = 42)\n",
        "\n",
        "\n",
        "# Создание и обучение модели логистической регрессии\n",
        "lg = LogisticRegression(class_weight='balanced', max_iter=200)\n",
        "lg.fit(X_scaled, Y)\n",
        "\n",
        "\n",
        "# После обучения модели можно получить коэффициенты\\\n",
        "lg.coef_\n"
      ]
    },
    {
      "cell_type": "code",
      "execution_count": null,
      "metadata": {
        "id": "-1YO_GXDC5AV",
        "outputId": "be2ccd0a-2211-4c3d-fb27-e27e323b70f3"
      },
      "outputs": [
        {
          "name": "stdout",
          "output_type": "stream",
          "text": [
            "sepal length (cm): [-1.07659238  1.15977648 -1.92814138 -1.81227307]\n",
            "sepal width (cm): [ 0.5899243  -0.36263595 -0.36461312 -0.82700241]\n",
            "petal length (cm): [ 0.48666809 -0.79714052  2.2927545   2.63927548]\n"
          ]
        }
      ],
      "source": [
        "feature_names = X.columns\n",
        "coefficients = lg.coef_  # lg.coef_ возвращает массив в массиве, если модель обучена на двухмерном X\n",
        "\n",
        "# Связывание имен признаков с их коэффициентами\n",
        "feature_importances = zip(feature_names, coefficients)\n",
        "\n",
        "# Преобразование в список для более удобного отображения\n",
        "feature_importance_list = list(feature_importances)\n",
        "\n",
        "# Отображение признаков и их коэффициентов\n",
        "for feature, coef in feature_importance_list:\n",
        "    print(f\"{feature}: {coef}\")"
      ]
    },
    {
      "cell_type": "markdown",
      "metadata": {
        "id": "3PtrkG8-C5AV"
      },
      "source": [
        "\n",
        "\n",
        "\n",
        "1. **Коэффициенты для каждого класса**:  модель логистической регрессии обучается на три класса (в данном случае три вида ирисов). Каждый класс имеет свой набор коэффициентов, которые показывают, как каждый признак влияет на вероятность принадлежности к этому классу.\n",
        "\n",
        "2. **Значение коэффициентов**:\n",
        "   - **Положительные коэффициенты**: Увеличивают вероятность принадлежности к классу. Если признак увеличивается, то вероятность принадлежности к этому классу также увеличивается.\n",
        "   - **Отрицательные коэффициенты**: Уменьшают вероятность принадлежности к классу. Если признак увеличивается, то вероятность принадлежности к этому классу уменьшается.\n",
        "\n"
      ]
    },
    {
      "cell_type": "code",
      "execution_count": null,
      "metadata": {
        "id": "o8P2XxFJC5AV",
        "outputId": "21946676-879b-4d0d-a924-7cc81521665d"
      },
      "outputs": [
        {
          "name": "stdout",
          "output_type": "stream",
          "text": [
            "Логистическая регрессия:\n",
            "Тренировочный accuracy: 0.9666666666666667\n",
            "Тестовый accuracy: 1.0\n"
          ]
        }
      ],
      "source": [
        "\n",
        "accuracy_test = accuracy_score(y_test, lg.predict(X_test))\n",
        "#Y_pred_test_lg = lg.predict(X_test)\n",
        "\n",
        "\n",
        "accuracy_train = accuracy_score(y_train, lg.predict(X_train))\n",
        "#Y_pred_train_lg = lg.predict(X_train)\n",
        "\n",
        "print(\"Логистическая регрессия:\")\n",
        "print(\"Тренировочный accuracy:\", accuracy_train)\n",
        "print(\"Тестовый accuracy:\", accuracy_test)"
      ]
    },
    {
      "cell_type": "markdown",
      "metadata": {
        "id": "Ub45RgsLC5AW"
      },
      "source": [
        "Модель склонна к переобучению."
      ]
    },
    {
      "cell_type": "markdown",
      "metadata": {
        "id": "vM5gve6fA480"
      },
      "source": [
        "##Задание 2\n",
        "\n",
        "Реализация Кросс-Валидации\n",
        "\n",
        " -   Реализуйте процесс 5-кратной кросс-валидации для модели полиномиальной линейной регрессии, используя предоставленный набор данных.\n",
        " -  \tКак изменяется средняя точность модели с использованием кросс-валидации по сравнению с однократной оценкой?\n",
        " - \tОбъясните, почему кросс-валидация может дать более надежную оценку эффективности модели.\n",
        "\n",
        "Вопросы к заданию:\n",
        "- Каковы преимущества использования кросс-валидации перед оценкой на одном разделении?\n",
        "- Как 10-кратная кросс-валидация может влиять на результаты по сравнению с 5-кратной?\n",
        "\n"
      ]
    },
    {
      "cell_type": "code",
      "execution_count": null,
      "metadata": {
        "colab": {
          "base_uri": "https://localhost:8080/"
        },
        "id": "6hZGeiBj8CoU",
        "outputId": "6a9ff5c0-4d94-48df-e8b3-aa1f1eec8c27"
      },
      "outputs": [
        {
          "name": "stdout",
          "output_type": "stream",
          "text": [
            "Однократная оценка эффективности (accuracy): 1.0\n",
            "Среднее значение accuracy по 5-кратной кросс-валидации: 0.9733333333333334\n",
            "Среднее значение accuracy при 10-кратной кросс-валидации: 0.9733333333333334\n"
          ]
        }
      ],
      "source": [
        "# Однократная оценка на тестовых данных\n",
        "single_score = accuracy_score(y_test, lg.predict(X_test))\n",
        "print(\"Однократная оценка эффективности (accuracy):\", single_score)\n",
        "\n",
        "# 5-кратная кросс-валидация на всем датасете\n",
        "cross_val_scores = cross_val_score(lg, X, Y, cv=5, scoring='accuracy')\n",
        "print(\"Среднее значение accuracy по 5-кратной кросс-валидации:\", cross_val_scores.mean())\n",
        "\n",
        "scores_10 = cross_val_score(lg, X, Y, cv=10, scoring='accuracy')\n",
        "print(\"Среднее значение accuracy при 10-кратной кросс-валидации:\", scores_10.mean())"
      ]
    },
    {
      "cell_type": "markdown",
      "metadata": {
        "id": "WgnfehFT9FyV"
      },
      "source": [
        "1. Переобучение: Однократная оценка accuracy = 1\n",
        "  указывает на сильное переобучение модели на тестовых данных. Это означает, что модель идеально подстроилась под тестовые данные, но не обязательно будет хорошо работать на новых данных.\n",
        "\n",
        "2. Различия в выборках: Кросс-валидация позволяет оценить модель на различных подвыборках данных, что дает более реалистичное представление о генерализации модели. Каждая итерация в процессе кросс-валидации использует разные наборы тренировочных и проверочных данных, что может выявить переобучение или недообучение модели, не видимое при однократном тестировании."
      ]
    },
    {
      "cell_type": "markdown",
      "metadata": {
        "id": "bOPpwr0X9Opn"
      },
      "source": [
        "Сравнивая среднюю точность модели через кросс-валидацию с однократной оценкой, становится видно, что результат однократной оценки значительно выше (accuracy = 1.0), что может свидетельствовать о переобучении модели на конкретном наборе данных. Когда модель тестируется только на одном разделении данных, оценка может не отражать реальную способность модели к обобщению на новые данные.\n",
        "Кросс-валидация дает более надежную оценку эффективности модели, потому что она включает многократное тестирование модели на разных подвыборках данных. Это минимизирует влияние случайных подмножеств данных на результаты и позволяет лучше оценить, насколько хорошо модель сможет работать на невиданной ранее информации. По сути, это имитирует процесс \"нового встречания\" модели с данными и подчеркивает её устойчивость к изменениям в данных.\n",
        "\n"
      ]
    },
    {
      "cell_type": "markdown",
      "metadata": {
        "id": "TTZkU32zgZKs"
      },
      "source": [
        "##Задание 3"
      ]
    },
    {
      "cell_type": "markdown",
      "metadata": {
        "id": "JRaDLqxlt8oJ"
      },
      "source": [
        " Эксперименты с Регуляризацией\n",
        "\n",
        "- Добавьте L1 и L2 регуляризацию к вашей модели линейной регрессии. Экспериментируйте с различными значениями параметра регуляризации и оцените влияние каждого типа регуляризации на качество модели на тестовой выборке.\n",
        "- Как регуляризация влияет на коэффициенты модели?\n",
        "Объясните, почему L1-регуляризация может быть использована для отбора признаков.\n",
        "\n",
        "Вопросы к заданию:\n",
        "- Как определить оптимальное значение параметра регуляризации?\n",
        "- Почему L2-регуляризация не приводит к отбору признаков так же, как L1?\n"
      ]
    },
    {
      "cell_type": "code",
      "execution_count": null,
      "metadata": {
        "colab": {
          "base_uri": "https://localhost:8080/"
        },
        "id": "eqJu8sSx-W2d",
        "outputId": "9125c0fb-5b45-448d-f135-033381e66bc3"
      },
      "outputs": [
        {
          "name": "stdout",
          "output_type": "stream",
          "text": [
            "L1 Regularization Accuracy с alpha=0.01: 1.0\n",
            "L1 Regularization Accuracy с alpha=0.1: 1.0\n",
            "L1 Regularization Accuracy с alpha=1.0: 0.9666666666666667\n",
            "L1 Regularization Accuracy с alpha=10.0: 0.9333333333333333\n",
            "L1 Regularization Accuracy с alpha=100.0: 0.3333333333333333\n",
            "L2 Regularization Accuracy с alpha=0.01: 1.0\n",
            "L2 Regularization Accuracy с alpha=0.1: 1.0\n",
            "L2 Regularization Accuracy с alpha=1.0: 1.0\n",
            "L2 Regularization Accuracy с alpha=10.0: 0.9666666666666667\n",
            "L2 Regularization Accuracy с alpha=100.0: 0.9333333333333333\n"
          ]
        }
      ],
      "source": [
        "import numpy as np\n",
        "from sklearn.model_selection import train_test_split\n",
        "from sklearn.linear_model import Lasso, Ridge\n",
        "from sklearn.metrics import accuracy_score\n",
        "from sklearn.datasets import make_regression\n",
        "\n",
        "\n",
        "# Параметры регуляризации для тестирования\n",
        "alphas = [0.01, 0.1, 1.0, 10.0, 100.0]\n",
        "\n",
        "\n",
        "\n",
        "for alpha in alphas:\n",
        "    # Логистическая регрессия с L1 регуляризацией\n",
        "    logistic_l1 = LogisticRegression(penalty='l1', solver='liblinear', C=1/alpha)  # 'liblinear' поддерживает L1\n",
        "    logistic_l1.fit(X_train, y_train)\n",
        "    y_pred_l1 = logistic_l1.predict(X_test)\n",
        "    print(f'L1 Regularization Accuracy с alpha={alpha}: {accuracy_score(y_test, y_pred_l1)}')\n",
        "\n",
        "for alpha in alphas:\n",
        "    # Логистическая регрессия с L2 регуляризацией\n",
        "    logistic_l2 = LogisticRegression(penalty='l2', C=1/alpha)  # По умолчанию 'l2'\n",
        "    logistic_l2.fit(X_train, y_train)\n",
        "    y_pred_l2 = logistic_l2.predict(X_test)\n",
        "    print(f'L2 Regularization Accuracy с alpha={alpha}: {accuracy_score(y_test, y_pred_l2)}')"
      ]
    },
    {
      "cell_type": "markdown",
      "metadata": {
        "id": "Ao7DK_M8_YyB"
      },
      "source": [
        "Анализ результатов показывает, что модель L1 с параметром alpha 1 дает наилучший результат с accuracy\n",
        " около 0.97, что указывает на достаточно хорошую адекватность модели к данным. С увеличением альфа значение accuracy немного уменьшается\n",
        "\n",
        "Для модели L2 значение accuracy  достигает наилучшего результата 0.97 при alpha 10.\n"
      ]
    },
    {
      "cell_type": "code",
      "execution_count": null,
      "metadata": {
        "colab": {
          "base_uri": "https://localhost:8080/",
          "height": 492
        },
        "id": "yg-dHA29-cx7",
        "outputId": "73c3c50c-60af-47d5-b17b-5e7628a8182c"
      },
      "outputs": [
        {
          "data": {
            "image/png": "[encoded data removed]",
            "text/plain": [
              "<Figure size 720x360 with 1 Axes>"
            ]
          },
          "metadata": {
            "needs_background": "light"
          },
          "output_type": "display_data"
        }
      ],
      "source": [
        "import matplotlib.pyplot as plt\n",
        "\n",
        "# Переопределим данные для создания графиков\n",
        "accuracy_score_l1 = []\n",
        "accuracy_score_l2 = []\n",
        "\n",
        "# Тестируем Lasso регрессию и Ridge регрессию, сохраняем результаты R^2\n",
        "for alpha in alphas:\n",
        "    # Логистическая регрессия с L1 регуляризацией\n",
        "    logistic_l1 = LogisticRegression(penalty='l1', solver='liblinear', C=1/alpha)  # 'liblinear' поддерживает L1\n",
        "    logistic_l1.fit(X_train, y_train)\n",
        "    y_pred_l1 = logistic_l1.predict(X_test)\n",
        "    accuracy_score_l1.append(accuracy_score(y_test, y_pred_l1))\n",
        "\n",
        "for alpha in alphas:\n",
        "    # Логистическая регрессия с L2 регуляризацией\n",
        "    logistic_l2 = LogisticRegression(penalty='l2', C=1/alpha)  # По умолчанию 'l2'\n",
        "    logistic_l2.fit(X_train, y_train)\n",
        "    y_pred_l2 = logistic_l2.predict(X_test)\n",
        "\n",
        "    accuracy_score_l2.append(accuracy_score(y_test, y_pred_l2))\n",
        "\n",
        "# Создаем графики\n",
        "plt.figure(figsize=(10, 5))\n",
        "plt.plot(alphas, accuracy_score_l1, label='L1')\n",
        "plt.plot(alphas, accuracy_score_l2, label='L2')\n",
        "plt.xscale('log')\n",
        "plt.xlabel('Alpha (Log Scale)')\n",
        "plt.ylabel('Accuracy_score')\n",
        "plt.title('Effect of Regularization on Accuracy_Score')\n",
        "plt.legend()\n",
        "plt.show()\n"
      ]
    },
    {
      "cell_type": "markdown",
      "metadata": {
        "id": "HjijIyojBBhw"
      },
      "source": [
        "## Задание 4"
      ]
    },
    {
      "cell_type": "markdown",
      "metadata": {
        "id": "Yq7O3DbhAsc_"
      },
      "source": [
        "Анализ способности к обобщению\n",
        "\n",
        "- Постройте графики кривых обучения для вашей модели линейной регрессии, отображая ошибки на тренировочной и валидационной выборке в зависимости от размера обучающей выборки.\n",
        "- Что можно сказать о способности модели к обобщению, основываясь на этих графиках?\n",
        "Какие шаги можно предпринять, если график указывает на переобучение или недообучение модели?\n",
        "\n",
        "Вопросы к заданию:\n",
        "- Какие факторы могут привести к переобучению модели, согласно графику кривой обучения?\n",
        "- Какие методы могут помочь улучшить способность модели к обобщению?\n"
      ]
    },
    {
      "cell_type": "code",
      "execution_count": null,
      "metadata": {
        "id": "pP7lTeg0C5AX",
        "outputId": "4355864d-02a0-4577-d5c0-1422799503ec"
      },
      "outputs": [
        {
          "name": "stderr",
          "output_type": "stream",
          "text": [
            "c:\\Users\\Arteys\\AppData\\Local\\Programs\\Python\\Python310\\lib\\site-packages\\sklearn\\model_selection\\_validation.py:540: FitFailedWarning: \n",
            "15 fits failed out of a total of 50.\n",
            "The score on these train-test partitions for these parameters will be set to nan.\n",
            "If these failures are not expected, you can try to debug them by setting error_score='raise'.\n",
            "\n",
            "Below are more details about the failures:\n",
            "--------------------------------------------------------------------------------\n",
            "15 fits failed with the following error:\n",
            "Traceback (most recent call last):\n",
            "  File \"c:\\Users\\Arteys\\AppData\\Local\\Programs\\Python\\Python310\\lib\\site-packages\\sklearn\\model_selection\\_validation.py\", line 888, in _fit_and_score\n",
            "    estimator.fit(X_train, y_train, **fit_params)\n",
            "  File \"c:\\Users\\Arteys\\AppData\\Local\\Programs\\Python\\Python310\\lib\\site-packages\\sklearn\\base.py\", line 1473, in wrapper\n",
            "    return fit_method(estimator, *args, **kwargs)\n",
            "  File \"c:\\Users\\Arteys\\AppData\\Local\\Programs\\Python\\Python310\\lib\\site-packages\\sklearn\\linear_model\\_logistic.py\", line 1301, in fit\n",
            "    raise ValueError(\n",
            "ValueError: This solver needs samples of at least 2 classes in the data, but the data contains only one class: 0\n",
            "\n",
            "  warnings.warn(some_fits_failed_message, FitFailedWarning)\n"
          ]
        },
        {
          "data": {
            "image/png": "[encoded data removed]",
            "text/plain": [
              "<Figure size 432x288 with 1 Axes>"
            ]
          },
          "metadata": {
            "needs_background": "light"
          },
          "output_type": "display_data"
        }
      ],
      "source": [
        "import numpy as np\n",
        "import matplotlib.pyplot as plt\n",
        "from sklearn.linear_model import LogisticRegression\n",
        "from sklearn.model_selection import learning_curve\n",
        "\n",
        "# Предполагается, что X и Y уже определены\n",
        "\n",
        "# Создание модели логистической регрессии\n",
        "model = LogisticRegression(max_iter=200)\n",
        "\n",
        "# Получение кривых обучения\n",
        "train_sizes, train_scores, validation_scores = learning_curve(\n",
        "    estimator=model,\n",
        "    X=X,\n",
        "    y=Y,\n",
        "    train_sizes=np.linspace(0.1, 1.0, 10),\n",
        "    cv=5,\n",
        "    scoring='accuracy'  # Изменено на 'accuracy'\n",
        ")\n",
        "\n",
        "# Средние значения и стандартное отклонение ошибок обучения\n",
        "train_mean = np.mean(train_scores, axis=1)\n",
        "train_std = np.std(train_scores, axis=1)\n",
        "\n",
        "# Средние значения и стандартное отклонение ошибок валидации\n",
        "validation_mean = np.mean(validation_scores, axis=1)\n",
        "validation_std = np.std(validation_scores, axis=1)\n",
        "\n",
        "# Построение графиков\n",
        "plt.fill_between(train_sizes, train_mean - train_std, train_mean + train_std, color='#DDDDDD')\n",
        "plt.fill_between(train_sizes, validation_mean - validation_std, validation_mean + validation_std, color='#FFDDDD')\n",
        "plt.plot(train_sizes, train_mean, 'o-', color='b', label='Training error')\n",
        "plt.plot(train_sizes, validation_mean, 'o-', color='r', label='Validation error')\n",
        "\n",
        "plt.title('Learning Curves')\n",
        "plt.xlabel('Training Set Size')\n",
        "plt.ylabel('Accuracy')  # Изменено на 'Accuracy'\n",
        "plt.legend()\n",
        "plt.show()"
      ]
    },
    {
      "cell_type": "code",
      "execution_count": null,
      "metadata": {
        "id": "ZoXz2aDdC5AY",
        "outputId": "ff5394a8-49a1-48c6-f8dd-f333063bbfbf"
      },
      "outputs": [
        {
          "name": "stderr",
          "output_type": "stream",
          "text": [
            "c:\\Users\\Arteys\\AppData\\Local\\Programs\\Python\\Python310\\lib\\site-packages\\sklearn\\model_selection\\_validation.py:540: FitFailedWarning: \n",
            "15 fits failed out of a total of 50.\n",
            "The score on these train-test partitions for these parameters will be set to nan.\n",
            "If these failures are not expected, you can try to debug them by setting error_score='raise'.\n",
            "\n",
            "Below are more details about the failures:\n",
            "--------------------------------------------------------------------------------\n",
            "15 fits failed with the following error:\n",
            "Traceback (most recent call last):\n",
            "  File \"c:\\Users\\Arteys\\AppData\\Local\\Programs\\Python\\Python310\\lib\\site-packages\\sklearn\\model_selection\\_validation.py\", line 888, in _fit_and_score\n",
            "    estimator.fit(X_train, y_train, **fit_params)\n",
            "  File \"c:\\Users\\Arteys\\AppData\\Local\\Programs\\Python\\Python310\\lib\\site-packages\\sklearn\\base.py\", line 1473, in wrapper\n",
            "    return fit_method(estimator, *args, **kwargs)\n",
            "  File \"c:\\Users\\Arteys\\AppData\\Local\\Programs\\Python\\Python310\\lib\\site-packages\\sklearn\\linear_model\\_logistic.py\", line 1301, in fit\n",
            "    raise ValueError(\n",
            "ValueError: This solver needs samples of at least 2 classes in the data, but the data contains only one class: 0\n",
            "\n",
            "  warnings.warn(some_fits_failed_message, FitFailedWarning)\n"
          ]
        },
        {
          "data": {
            "image/png": "[encoded data removed]",
            "text/plain": [
              "<Figure size 432x288 with 1 Axes>"
            ]
          },
          "metadata": {
            "needs_background": "light"
          },
          "output_type": "display_data"
        }
      ],
      "source": [
        "model2 = LogisticRegression(penalty='l1', solver='liblinear', C=1, max_iter=200)\n",
        "# Получение кривых обучения\n",
        "train_sizes, train_scores, validation_scores = learning_curve(\n",
        "    estimator=model,\n",
        "    X=X,\n",
        "    y=Y,\n",
        "    train_sizes=np.linspace(0.1, 1.0, 10),\n",
        "    cv=5,\n",
        "    scoring='accuracy'  # Изменено на 'accuracy'\n",
        ")\n",
        "\n",
        "# Средние значения и стандартное отклонение ошибок обучения\n",
        "train_mean = np.mean(train_scores, axis=1)\n",
        "train_std = np.std(train_scores, axis=1)\n",
        "\n",
        "# Средние значения и стандартное отклонение ошибок валидации\n",
        "validation_mean = np.mean(validation_scores, axis=1)\n",
        "validation_std = np.std(validation_scores, axis=1)\n",
        "\n",
        "# Построение графиков\n",
        "plt.fill_between(train_sizes, train_mean - train_std, train_mean + train_std, color='#DDDDDD')\n",
        "plt.fill_between(train_sizes, validation_mean - validation_std, validation_mean + validation_std, color='#FFDDDD')\n",
        "plt.plot(train_sizes, train_mean, 'o-', color='b', label='Training error')\n",
        "plt.plot(train_sizes, validation_mean, 'o-', color='r', label='Validation error')\n",
        "\n",
        "plt.title('Learning Curves')\n",
        "plt.xlabel('Training Set Size')\n",
        "plt.ylabel('Accuracy')  # Изменено на 'Accuracy'\n",
        "plt.legend()\n",
        "plt.show()"
      ]
    },
    {
      "cell_type": "code",
      "execution_count": null,
      "metadata": {
        "id": "OBNY0tFaC5AY",
        "outputId": "95bf3011-fc0b-4169-fd30-b41f3703d07a"
      },
      "outputs": [
        {
          "name": "stderr",
          "output_type": "stream",
          "text": [
            "c:\\Users\\Arteys\\AppData\\Local\\Programs\\Python\\Python310\\lib\\site-packages\\sklearn\\model_selection\\_validation.py:540: FitFailedWarning: \n",
            "15 fits failed out of a total of 50.\n",
            "The score on these train-test partitions for these parameters will be set to nan.\n",
            "If these failures are not expected, you can try to debug them by setting error_score='raise'.\n",
            "\n",
            "Below are more details about the failures:\n",
            "--------------------------------------------------------------------------------\n",
            "15 fits failed with the following error:\n",
            "Traceback (most recent call last):\n",
            "  File \"c:\\Users\\Arteys\\AppData\\Local\\Programs\\Python\\Python310\\lib\\site-packages\\sklearn\\model_selection\\_validation.py\", line 888, in _fit_and_score\n",
            "    estimator.fit(X_train, y_train, **fit_params)\n",
            "  File \"c:\\Users\\Arteys\\AppData\\Local\\Programs\\Python\\Python310\\lib\\site-packages\\sklearn\\base.py\", line 1473, in wrapper\n",
            "    return fit_method(estimator, *args, **kwargs)\n",
            "  File \"c:\\Users\\Arteys\\AppData\\Local\\Programs\\Python\\Python310\\lib\\site-packages\\sklearn\\linear_model\\_logistic.py\", line 1301, in fit\n",
            "    raise ValueError(\n",
            "ValueError: This solver needs samples of at least 2 classes in the data, but the data contains only one class: 0\n",
            "\n",
            "  warnings.warn(some_fits_failed_message, FitFailedWarning)\n"
          ]
        },
        {
          "data": {
            "image/png": "[encoded data removed]",
            "text/plain": [
              "<Figure size 432x288 with 1 Axes>"
            ]
          },
          "metadata": {
            "needs_background": "light"
          },
          "output_type": "display_data"
        }
      ],
      "source": [
        "model3 = LogisticRegression(penalty='l2', solver='liblinear', C=1/10, max_iter=200)\n",
        "# Получение кривых обучения\n",
        "train_sizes, train_scores, validation_scores = learning_curve(\n",
        "    estimator=model,\n",
        "    X=X,\n",
        "    y=Y,\n",
        "    train_sizes=np.linspace(0.1, 1.0, 10),\n",
        "    cv=5,\n",
        "    scoring='accuracy'  # Изменено на 'accuracy'\n",
        ")\n",
        "\n",
        "# Средние значения и стандартное отклонение ошибок обучения\n",
        "train_mean = np.mean(train_scores, axis=1)\n",
        "train_std = np.std(train_scores, axis=1)\n",
        "\n",
        "# Средние значения и стандартное отклонение ошибок валидации\n",
        "validation_mean = np.mean(validation_scores, axis=1)\n",
        "validation_std = np.std(validation_scores, axis=1)\n",
        "\n",
        "# Построение графиков\n",
        "plt.fill_between(train_sizes, train_mean - train_std, train_mean + train_std, color='#DDDDDD')\n",
        "plt.fill_between(train_sizes, validation_mean - validation_std, validation_mean + validation_std, color='#FFDDDD')\n",
        "plt.plot(train_sizes, train_mean, 'o-', color='b', label='Training error')\n",
        "plt.plot(train_sizes, validation_mean, 'o-', color='r', label='Validation error')\n",
        "\n",
        "plt.title('Learning Curves')\n",
        "plt.xlabel('Training Set Size')\n",
        "plt.ylabel('Accuracy')  # Изменено на 'Accuracy'\n",
        "plt.legend()\n",
        "plt.show()"
      ]
    },
    {
      "cell_type": "markdown",
      "metadata": {
        "id": "D3qTZeNeBtzU"
      },
      "source": [
        "Основные наблюдения:\n",
        "1. Первоначальное поведение:\n",
        "   - При малом размере обучающего набора (около 50-80), ошибка на валидационной выборке  высокая и начинает уменьшаться с увеличением набора данных.\n",
        "   - Ошибка на обучающей выборке изначально низкая, что может свидетельствовать о переобучении на малых данных.\n",
        "\n",
        "2. Сходимость ошибок:\n",
        "   - Начиная с некоторого размера обучающего набора (примерно 110), ошибки на обучающей и валидационной выборках начинают сходиться.\n",
        "   - Вполне возможно, что модель стабилизируется, как только достигается определенный объем данных.\n",
        "\n",
        "3. Высокая дисперсия валидационной ошибки:\n",
        "   - C увеличением  размера обучающей выборки  наблюдается высокая дисперсия валидационной ошибки, о чем свидетельствует широкая полоска вокруг красной линии. высокая дисперсия валидационной ошибки указывает на проблемы с обобщающей способностью модели\n",
        "1. Недостаток данных:\n",
        "   - На начальных этапах обучение на малых данных приводит к высокой ошибке на валидации и низкой ошибке на обучении, что свидетельствует о переобучении.\n",
        "   \n",
        "2. Объем данных имеет значение:\n",
        "   - Модель начинает улучшаться по мере увеличения размера обучающего набора, что приводит к уменьшению разницы между ошибкой на обучении и валидацией.\n",
        "   - Достигнув определенного объема (примерно 110 и более), ошибки становятся стабильными и равными, наблюдается высокая дисперсия валидационной ошибки,.\n",
        "\n",
        "\n"
      ]
    },
    {
      "cell_type": "markdown",
      "metadata": {
        "id": "3KbyMCaIB9py"
      },
      "source": [
        "Шаги при переобучении или недообучении:\n",
        "- Переобучение: Добавить больше данных, использовать регуляризацию (L1, L2), уменьшить число признаков.\n",
        "- Недообучение: Увеличить число признаков (если возможно), уменьшить степень регуляризации, использовать более сложные модели.\n",
        "\n",
        "Факторы, приводящие к переобучению:\n",
        "- Маленький объем тренировочных данных.\n",
        "- Слишком сложная модель для данного объема данных.\n",
        "- Неиспользование регуляризации.\n",
        "\n",
        "Методы улучшения обобщения:\n",
        "- Кросс-валидация.\n",
        "- Регуляризация (L1, L2).\n",
        "- Увеличение размера тренировочного набора данных."
      ]
    },
    {
      "cell_type": "markdown",
      "metadata": {
        "id": "MNMmNGvJ3EtL"
      },
      "source": [
        "##Домашнее задание"
      ]
    },
    {
      "cell_type": "markdown",
      "metadata": {
        "id": "XLtCRZPC3JMW"
      },
      "source": [
        "Задание  \n",
        "Ваша задача - построить модель машинного обучения для предсказания целевой переменной на примере датасета ирисы Фишера. В процессе выполнения задания вы должны применить концепции переобучения и недообучения, кросс-валидации, регуляризации (L1 и L2), а также оценить способность вашей модели к обобщению.\n",
        "\n",
        "1. Предварительная обработка данных\n",
        "Загрузите данные и проведите их первичный анализ. Очистите данные, если это необходимо, и проведите их нормализацию/стандартизацию.\n",
        "Разделите данные на тренировочный и тестовый наборы.\n",
        "2. Обучение модели\n",
        "  - Обучите модель логистической регрессии без регуляризации. Оцените её качество на тренировочных и тестовых данных.\n",
        "  - Повторите шаг с добавлением L1- и L2-регуляризации. Подберите оптимальные значения параметра регуляризации с помощью кросс-валидации.\n",
        "3. Анализ результатов\n",
        "  - Сравните качество всех трёх моделей (без регуляризации, с L1- и с L2-регуляризацией). Как влияют L1 и L2 на качество модели по сравнению с базовой моделью?\n",
        "  - Постройте графики кривых обучения для каждой из моделей. Что вы можете сказать о способности ваших моделей к обобщению?\n",
        "4. Отчёт\n",
        "  - Подготовьте краткий отчёт, в котором обоснуйте свой выбор параметров для моделей с регуляризацией, объясните полученные результаты и сделайте выводы о качестве моделирования.\n"
      ]
    }
  ],
  "metadata": {
    "colab": {
      "provenance": [],
      "toc_visible": true,
      "include_colab_link": true
    },
    "kernelspec": {
      "display_name": "Python 3",
      "name": "python3"
    },
    "language_info": {
      "codemirror_mode": {
        "name": "ipython",
        "version": 3
      },
      "file_extension": ".py",
      "mimetype": "text/x-python",
      "name": "python",
      "nbconvert_exporter": "python",
      "pygments_lexer": "ipython3",
      "version": "3.10.2"
    }
  },
  "nbformat": 4,
  "nbformat_minor": 0
}